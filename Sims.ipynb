{
 "cells": [
  {
   "cell_type": "code",
   "execution_count": 11,
   "metadata": {},
   "outputs": [
    {
     "name": "stdout",
     "output_type": "stream",
     "text": [
      "CUDA is available!  Training on GPU ...\n"
     ]
    }
   ],
   "source": [
    "import pickle\n",
    "import numpy as np\n",
    "from skimage import io\n",
    "import random\n",
    "import pandas as pd\n",
    "import torch\n",
    "import copy\n",
    "\n",
    "from tqdm import tqdm, tqdm_notebook\n",
    "from PIL import Image\n",
    "from pathlib import Path\n",
    "\n",
    "from torchvision import transforms\n",
    "from multiprocessing.pool import ThreadPool\n",
    "from sklearn.preprocessing import LabelEncoder\n",
    "from torch.utils.data import Dataset, DataLoader\n",
    "import torch.nn as nn\n",
    "from sklearn.metrics import f1_score\n",
    "from sklearn.model_selection import StratifiedKFold\n",
    "from matplotlib import colors, pyplot as plt\n",
    "%matplotlib inline\n",
    "\n",
    "train_on_gpu = torch.cuda.is_available()\n",
    "\n",
    "if not train_on_gpu:\n",
    "    print('CUDA is not available.  Training on CPU ...')\n",
    "else:\n",
    "    print('CUDA is available!  Training on GPU ...')"
   ]
  },
  {
   "cell_type": "code",
   "execution_count": 2,
   "metadata": {},
   "outputs": [],
   "source": [
    "SEED = 69\n",
    "\n",
    "random.seed(SEED)\n",
    "np.random.seed(SEED)\n",
    "torch.manual_seed(SEED)\n",
    "torch.cuda.manual_seed(SEED)\n",
    "torch.backends.cudnn.deterministic = True\n",
    "\n",
    "DATA_MODES = ['train', 'val', 'test']\n",
    "RESCALE_SIZE = 224\n",
    "DEVICE = torch.device(\"cuda\")\n",
    "EPOCHS=12\n",
    "BATCH_SIZE=64"
   ]
  },
  {
   "cell_type": "code",
   "execution_count": 3,
   "metadata": {},
   "outputs": [],
   "source": [
    "class SimpsonsDataset(Dataset):\n",
    "  def __init__(self, files, mode, augmentations = None):\n",
    "    super().__init__()\n",
    "    self.files = files\n",
    "    self.mode = mode\n",
    "    self.augmentations = augmentations\n",
    "\n",
    "    if self.mode not in DATA_MODES:\n",
    "      print(f'wrong mode: {self.mode}')\n",
    "      raise NameError\n",
    "\n",
    "    self.len_ = len(self.files)\n",
    "    self.label_encoder = LabelEncoder()\n",
    "\n",
    "    if self.mode != 'test':\n",
    "      self.labels = [path.parent.name for path in self.files]\n",
    "      self.label_encoder.fit(self.labels)\n",
    "\n",
    "      with open('label_encoder.pkl', 'wb') as le_dump:\n",
    "        pickle.dump(self.label_encoder, le_dump)\n",
    "\n",
    "  def __len__(self):\n",
    "    return self.len_\n",
    "\n",
    "  def load_sample(self, file):\n",
    "    image = Image.open(file)\n",
    "    image.load()\n",
    "    return image\n",
    "\n",
    "  def __getitem__(self, index):\n",
    "    transform_list = []\n",
    "    transform_list.append(transforms.Resize((RESCALE_SIZE, RESCALE_SIZE)))\n",
    "    if self.mode != 'test':            \n",
    "        transform_list.append(transforms.RandomHorizontalFlip())\n",
    "        transform_list.append(transforms.RandomRotation(15))\n",
    "    transform_list.append(transforms.ToTensor())\n",
    "    transform_list.append(transforms.Normalize([0.485, 0.456, 0.406], [0.229, 0.224, 0.225]))\n",
    "\n",
    "    transform = transforms.Compose(transform_list)\n",
    "    x = self.load_sample(self.files[index])\n",
    "    x = transform(x)\n",
    "    if self.mode == 'test':\n",
    "        return x\n",
    "    else:\n",
    "        label = self.labels[index]\n",
    "        label_id = self.label_encoder.transform([label])\n",
    "        y = label_id.item()\n",
    "        return x, y"
   ]
  },
  {
   "cell_type": "code",
   "execution_count": 4,
   "metadata": {},
   "outputs": [],
   "source": [
    "TRAIN_DIR = Path('train/simpsons_dataset')\n",
    "TEST_DIR = Path('testset/testset')\n",
    "\n",
    "train_val_files = sorted(list(TRAIN_DIR.rglob('*.jpg')))\n",
    "test_files = sorted(list(TEST_DIR.rglob('*.jpg')))\n",
    "train_val_labels = [path.parent.name for path in train_val_files]"
   ]
  },
  {
   "cell_type": "code",
   "execution_count": 5,
   "metadata": {},
   "outputs": [],
   "source": [
    "def create_dct_path_labels(train_files, train_labels):\n",
    "    dct_simpsons = {}\n",
    "    for label_i in np.unique(train_labels).tolist():\n",
    "        dct_simpsons[label_i] = []\n",
    "\n",
    "    for path_i, label_i in zip(train_files, train_labels):\n",
    "        dct_simpsons[label_i].append(path_i)\n",
    "\n",
    "    return dct_simpsons"
   ]
  },
  {
   "cell_type": "code",
   "execution_count": 6,
   "metadata": {},
   "outputs": [
    {
     "name": "stdout",
     "output_type": "stream",
     "text": [
      "20933\n",
      "21887\n"
     ]
    }
   ],
   "source": [
    "dct_path_train = create_dct_path_labels(train_val_files, train_val_labels)\n",
    "print(len(train_val_files))\n",
    "\n",
    "for person in dct_path_train:\n",
    "    if len(dct_path_train[person]) < 100:\n",
    "        dct_path_train[person] = dct_path_train[person] * (100 // len(dct_path_train[person]))\n",
    "        dct_path_train[person].extend(dct_path_train[person][:100 - len(dct_path_train[person])])\n",
    "        \n",
    "train_val_files = []\n",
    "for person in dct_path_train:\n",
    "    train_val_files.extend(dct_path_train[person])\n",
    "print(len(train_val_files))\n",
    "\n",
    "train_val_labels = [path.parent.name for path in train_val_files]\n",
    "\n",
    "train_files = train_val_files.copy()\n",
    "train_dataset = SimpsonsDataset(train_files, mode='train')"
   ]
  },
  {
   "cell_type": "code",
   "execution_count": 7,
   "metadata": {},
   "outputs": [],
   "source": [
    "class MyCnn(nn.Module):\n",
    "  \n",
    "    def __init__(self, n_classes):\n",
    "        super().__init__()\n",
    "        self.conv1 = nn.Sequential(\n",
    "            nn.Conv2d(in_channels=3, out_channels=32, kernel_size=3),\n",
    "            nn.ReLU(),\n",
    "            nn.MaxPool2d(kernel_size=2)\n",
    "        )\n",
    "        self.conv2 = nn.Sequential(\n",
    "            nn.Conv2d(in_channels=8, out_channels=32, kernel_size=3),\n",
    "            nn.ReLU(),\n",
    "            nn.MaxPool2d(kernel_size=2)\n",
    "        )\n",
    "        self.conv3 = nn.Sequential(\n",
    "            nn.Conv2d(in_channels=16, out_channels=64, kernel_size=3),\n",
    "            nn.ReLU(),\n",
    "            nn.MaxPool2d(kernel_size=2)\n",
    "        )\n",
    "        self.conv4 = nn.Sequential(\n",
    "            nn.Conv2d(in_channels=32, out_channels=128, kernel_size=3),\n",
    "            nn.ReLU(),\n",
    "            nn.MaxPool2d(kernel_size=2)\n",
    "        )\n",
    "        self.conv5 = nn.Sequential(\n",
    "            nn.Conv2d(in_channels=64, out_channels=256, kernel_size=3),\n",
    "            nn.ReLU(),\n",
    "            nn.MaxPool2d(kernel_size=2)\n",
    "        )\n",
    "        self.fc1 = nn.Sequential(\n",
    "            nn.Linear(5 * 5 * 256, 512),\n",
    "            nn.BatchNorm1d(256),\n",
    "            nn.ReLU(),\n",
    "        )\n",
    "        self.out = nn.Linear(512, n_classes) \n",
    "\n",
    "    def forward(self, x):\n",
    "        x = self.conv1(x)\n",
    "        x = self.conv2(x)\n",
    "        x = self.conv3(x)\n",
    "        x = self.conv4(x)\n",
    "        x = self.conv5(x)\n",
    "        x = x.view(-1, 5 * 5 * 128)\n",
    "        x = self.fc1(x)\n",
    "        logits = self.out(x)\n",
    "        return logits"
   ]
  },
  {
   "cell_type": "code",
   "execution_count": 8,
   "metadata": {},
   "outputs": [],
   "source": [
    "def fit_epoch(model, train_loader, criterion, optimizer):\n",
    "    running_loss = 0.0\n",
    "    running_corrects = 0\n",
    "    processed_data = 0\n",
    "  \n",
    "    for inputs, labels in train_loader:\n",
    "        inputs = inputs.to(DEVICE)\n",
    "        labels = labels.to(DEVICE)\n",
    "        optimizer.zero_grad()\n",
    "\n",
    "        outputs = model(inputs)\n",
    "        loss = criterion(outputs, labels)\n",
    "        loss.backward()\n",
    "        optimizer.step()\n",
    "        preds = torch.argmax(outputs, 1)\n",
    "        running_loss += loss.item() * inputs.size(0)\n",
    "        running_corrects += torch.sum(preds == labels.data)\n",
    "        processed_data += inputs.size(0)\n",
    "              \n",
    "    train_loss = running_loss / processed_data\n",
    "    train_acc = running_corrects.cpu().numpy() / processed_data\n",
    "    return train_loss, train_acc\n",
    "  \n",
    "def eval_epoch(model, val_loader, criterion):\n",
    "    model.eval()\n",
    "    running_loss = 0.0\n",
    "    running_corrects = 0\n",
    "    processed_size = 0\n",
    "\n",
    "    for inputs, labels in val_loader:\n",
    "        inputs = inputs.to(DEVICE)\n",
    "        labels = labels.to(DEVICE)\n",
    "\n",
    "        with torch.set_grad_enabled(False):\n",
    "            outputs = model(inputs)\n",
    "            loss = criterion(outputs, labels)\n",
    "            preds = torch.argmax(outputs, 1)\n",
    "\n",
    "        running_loss += loss.item() * inputs.size(0)\n",
    "        running_corrects += torch.sum(preds == labels.data)\n",
    "        processed_size += inputs.size(0)\n",
    "    val_loss = running_loss / processed_size\n",
    "    val_acc = running_corrects.double() / processed_size\n",
    "    return val_loss, val_acc\n",
    "  \n",
    "def train(train_files, val_files, model, epochs, batch_size):\n",
    "    train_loader = DataLoader(train_dataset, batch_size=batch_size, shuffle=True)\n",
    "    val_loader = DataLoader(val_dataset, batch_size=batch_size, shuffle=False)\n",
    "\n",
    "    history = []\n",
    "    log_template = \"\\nEpoch {ep:03d} train_loss: {t_loss:0.4f} \\\n",
    "    val_loss {v_loss:0.4f} train_acc {t_acc:0.4f} val_acc {v_acc:0.4f}\"\n",
    "\n",
    "    with tqdm(desc=\"epoch\", total=epochs) as pbar_outer:       \n",
    "        opt = torch.optim.Adam(model.parameters())\n",
    "        #scheduler = torch.optim.lr_scheduler.ReduceLROnPlateau(\n",
    "        #    opt, mode='max', factor=0.1, patience=10, verbose=False)\n",
    "        scheduler = torch.optim.lr_scheduler.StepLR(opt, step_size=7, gamma=0.1)        \n",
    "        criterion = nn.CrossEntropyLoss()\n",
    "        best_acc = 0.0\n",
    "\n",
    "        for epoch in range(epochs):\n",
    "            \n",
    "            train_loss, train_acc = fit_epoch(model, train_loader, criterion, opt)\n",
    "            print(\"loss\", train_loss)\n",
    "\n",
    "            val_loss, val_acc = eval_epoch(model, val_loader, criterion)\n",
    "            history.append((train_loss, train_acc, val_loss, val_acc))\n",
    "            \n",
    "\n",
    "            pbar_outer.update(1)\n",
    "            tqdm.write(log_template.format(ep=epoch+1, t_loss=train_loss,\\\n",
    "                                           v_loss=val_loss, t_acc=train_acc, v_acc=val_acc))\n",
    "            \n",
    "            #scheduler.step(val_acc)\n",
    "            scheduler.step()\n",
    "            \n",
    "            if val_acc > best_acc:\n",
    "                best_model_wghts = copy.deepcopy(model.state_dict())\n",
    "                torch.save(best_model_wghts, './model/simplecnn.mdl')\n",
    "                best_acc = val_acc\n",
    "            \n",
    "    return history\n",
    "\n",
    "def predict(model, test_loader):\n",
    "    with torch.no_grad():\n",
    "        logits = []\n",
    "    \n",
    "        for inputs in test_loader:\n",
    "            inputs = inputs.to(DEVICE)\n",
    "            model.eval()\n",
    "            outputs = model(inputs).cpu()\n",
    "            logits.append(outputs)\n",
    "            \n",
    "    probs = nn.functional.softmax(torch.cat(logits), dim=-1).numpy()\n",
    "    return probs"
   ]
  },
  {
   "cell_type": "code",
   "execution_count": 9,
   "metadata": {},
   "outputs": [
    {
     "name": "stdout",
     "output_type": "stream",
     "text": [
      "\n",
      "FOLD 1\n"
     ]
    },
    {
     "name": "stderr",
     "output_type": "stream",
     "text": [
      "\r",
      "epoch:   0%|                                                                                    | 0/12 [00:00<?, ?it/s]"
     ]
    },
    {
     "name": "stdout",
     "output_type": "stream",
     "text": [
      "loss 1.8897979594194758\n"
     ]
    },
    {
     "name": "stderr",
     "output_type": "stream",
     "text": [
      "epoch:   8%|██████▎                                                                     | 1/12 [01:08<12:28, 68.08s/it]"
     ]
    },
    {
     "name": "stdout",
     "output_type": "stream",
     "text": [
      "\n",
      "Epoch 001 train_loss: 1.8898     val_loss 1.3390 train_acc 0.4911 val_acc 0.6265\n",
      "loss 1.1264550642716946\n"
     ]
    },
    {
     "name": "stderr",
     "output_type": "stream",
     "text": [
      "epoch:  17%|████████████▋                                                               | 2/12 [02:13<11:11, 67.19s/it]"
     ]
    },
    {
     "name": "stdout",
     "output_type": "stream",
     "text": [
      "\n",
      "Epoch 002 train_loss: 1.1265     val_loss 0.9569 train_acc 0.6812 val_acc 0.7302\n",
      "loss 0.7292391604042467\n"
     ]
    },
    {
     "name": "stderr",
     "output_type": "stream",
     "text": [
      "epoch:  25%|███████████████████                                                         | 3/12 [03:18<09:59, 66.58s/it]"
     ]
    },
    {
     "name": "stdout",
     "output_type": "stream",
     "text": [
      "\n",
      "Epoch 003 train_loss: 0.7292     val_loss 0.7402 train_acc 0.7959 val_acc 0.7933\n",
      "loss 0.515088005094922\n"
     ]
    },
    {
     "name": "stderr",
     "output_type": "stream",
     "text": [
      "epoch:  33%|█████████████████████████▎                                                  | 4/12 [04:22<08:45, 65.72s/it]"
     ]
    },
    {
     "name": "stdout",
     "output_type": "stream",
     "text": [
      "\n",
      "Epoch 004 train_loss: 0.5151     val_loss 0.6722 train_acc 0.8514 val_acc 0.8200\n",
      "loss 0.39905783681963736\n"
     ]
    },
    {
     "name": "stderr",
     "output_type": "stream",
     "text": [
      "epoch:  42%|███████████████████████████████▋                                            | 5/12 [05:26<07:37, 65.42s/it]"
     ]
    },
    {
     "name": "stdout",
     "output_type": "stream",
     "text": [
      "\n",
      "Epoch 005 train_loss: 0.3991     val_loss 0.6632 train_acc 0.8854 val_acc 0.8237\n",
      "loss 0.32709693336780943\n"
     ]
    },
    {
     "name": "stderr",
     "output_type": "stream",
     "text": [
      "epoch:  50%|██████████████████████████████████████                                      | 6/12 [06:33<06:34, 65.81s/it]"
     ]
    },
    {
     "name": "stdout",
     "output_type": "stream",
     "text": [
      "\n",
      "Epoch 006 train_loss: 0.3271     val_loss 0.6338 train_acc 0.9014 val_acc 0.8355\n",
      "loss 0.27459065692470663\n"
     ]
    },
    {
     "name": "stderr",
     "output_type": "stream",
     "text": [
      "epoch:  58%|████████████████████████████████████████████▎                               | 7/12 [07:40<05:30, 66.08s/it]"
     ]
    },
    {
     "name": "stdout",
     "output_type": "stream",
     "text": [
      "\n",
      "Epoch 007 train_loss: 0.2746     val_loss 0.6020 train_acc 0.9175 val_acc 0.8506\n",
      "loss 0.21982343742634883\n"
     ]
    },
    {
     "name": "stderr",
     "output_type": "stream",
     "text": [
      "epoch:  67%|██████████████████████████████████████████████████▋                         | 8/12 [08:46<04:25, 66.28s/it]"
     ]
    },
    {
     "name": "stdout",
     "output_type": "stream",
     "text": [
      "\n",
      "Epoch 008 train_loss: 0.2198     val_loss 0.5968 train_acc 0.9327 val_acc 0.8506\n",
      "loss 0.1932781800475369\n"
     ]
    },
    {
     "name": "stderr",
     "output_type": "stream",
     "text": [
      "epoch:  75%|█████████████████████████████████████████████████████████                   | 9/12 [09:53<03:19, 66.37s/it]"
     ]
    },
    {
     "name": "stdout",
     "output_type": "stream",
     "text": [
      "\n",
      "Epoch 009 train_loss: 0.1933     val_loss 0.6582 train_acc 0.9433 val_acc 0.8536\n",
      "loss 0.17107299063923875\n"
     ]
    },
    {
     "name": "stderr",
     "output_type": "stream",
     "text": [
      "epoch:  83%|██████████████████████████████████████████████████████████████▌            | 10/12 [11:01<02:13, 66.92s/it]"
     ]
    },
    {
     "name": "stdout",
     "output_type": "stream",
     "text": [
      "\n",
      "Epoch 010 train_loss: 0.1711     val_loss 0.6505 train_acc 0.9500 val_acc 0.8538\n",
      "loss 0.15807522719858838\n"
     ]
    },
    {
     "name": "stderr",
     "output_type": "stream",
     "text": [
      "epoch:  92%|████████████████████████████████████████████████████████████████████▊      | 11/12 [12:06<01:06, 66.15s/it]"
     ]
    },
    {
     "name": "stdout",
     "output_type": "stream",
     "text": [
      "\n",
      "Epoch 011 train_loss: 0.1581     val_loss 0.6559 train_acc 0.9516 val_acc 0.8611\n",
      "loss 0.13803999865951758\n"
     ]
    },
    {
     "name": "stderr",
     "output_type": "stream",
     "text": [
      "epoch: 100%|███████████████████████████████████████████████████████████████████████████| 12/12 [13:09<00:00, 65.79s/it]"
     ]
    },
    {
     "name": "stdout",
     "output_type": "stream",
     "text": [
      "\n",
      "Epoch 012 train_loss: 0.1380     val_loss 0.6923 train_acc 0.9584 val_acc 0.8620\n"
     ]
    },
    {
     "name": "stderr",
     "output_type": "stream",
     "text": [
      "\n"
     ]
    },
    {
     "data": {
      "image/png": "[encoded data removed]",
      "text/plain": [
       "<Figure size 1080x648 with 1 Axes>"
      ]
     },
     "metadata": {
      "needs_background": "light"
     },
     "output_type": "display_data"
    },
    {
     "name": "stderr",
     "output_type": "stream",
     "text": [
      "\r",
      "epoch:   0%|                                                                                    | 0/12 [00:00<?, ?it/s]"
     ]
    },
    {
     "name": "stdout",
     "output_type": "stream",
     "text": [
      "\n",
      "FOLD 2\n",
      "loss 1.883007351631399\n"
     ]
    },
    {
     "name": "stderr",
     "output_type": "stream",
     "text": [
      "epoch:   8%|██████▎                                                                     | 1/12 [01:03<11:34, 63.11s/it]"
     ]
    },
    {
     "name": "stdout",
     "output_type": "stream",
     "text": [
      "\n",
      "Epoch 001 train_loss: 1.8830     val_loss 1.3538 train_acc 0.4973 val_acc 0.6213\n",
      "loss 1.0854723870812113\n"
     ]
    },
    {
     "name": "stderr",
     "output_type": "stream",
     "text": [
      "epoch:  17%|████████████▋                                                               | 2/12 [02:06<10:32, 63.23s/it]"
     ]
    },
    {
     "name": "stdout",
     "output_type": "stream",
     "text": [
      "\n",
      "Epoch 002 train_loss: 1.0855     val_loss 0.8635 train_acc 0.6966 val_acc 0.7682\n",
      "loss 0.714776861173339\n"
     ]
    },
    {
     "name": "stderr",
     "output_type": "stream",
     "text": [
      "epoch:  25%|███████████████████                                                         | 3/12 [03:11<09:32, 63.58s/it]"
     ]
    },
    {
     "name": "stdout",
     "output_type": "stream",
     "text": [
      "\n",
      "Epoch 003 train_loss: 0.7148     val_loss 0.7116 train_acc 0.7958 val_acc 0.8074\n",
      "loss 0.5035591471187731\n"
     ]
    },
    {
     "name": "stderr",
     "output_type": "stream",
     "text": [
      "epoch:  33%|█████████████████████████▎                                                  | 4/12 [04:17<08:35, 64.47s/it]"
     ]
    },
    {
     "name": "stdout",
     "output_type": "stream",
     "text": [
      "\n",
      "Epoch 004 train_loss: 0.5036     val_loss 0.6702 train_acc 0.8528 val_acc 0.8287\n",
      "loss 0.39254336137986484\n"
     ]
    },
    {
     "name": "stderr",
     "output_type": "stream",
     "text": [
      "epoch:  42%|███████████████████████████████▋                                            | 5/12 [05:25<07:37, 65.42s/it]"
     ]
    },
    {
     "name": "stdout",
     "output_type": "stream",
     "text": [
      "\n",
      "Epoch 005 train_loss: 0.3925     val_loss 0.6480 train_acc 0.8836 val_acc 0.8335\n",
      "loss 0.3080102317658598\n"
     ]
    },
    {
     "name": "stderr",
     "output_type": "stream",
     "text": [
      "epoch:  50%|██████████████████████████████████████                                      | 6/12 [06:30<06:31, 65.24s/it]"
     ]
    },
    {
     "name": "stdout",
     "output_type": "stream",
     "text": [
      "\n",
      "Epoch 006 train_loss: 0.3080     val_loss 0.5996 train_acc 0.9074 val_acc 0.8529\n",
      "loss 0.24892989782782132\n"
     ]
    },
    {
     "name": "stderr",
     "output_type": "stream",
     "text": [
      "epoch:  58%|████████████████████████████████████████████▎                               | 7/12 [07:34<05:25, 65.01s/it]"
     ]
    },
    {
     "name": "stdout",
     "output_type": "stream",
     "text": [
      "\n",
      "Epoch 007 train_loss: 0.2489     val_loss 0.6355 train_acc 0.9280 val_acc 0.8531\n",
      "loss 0.2170146273578743\n"
     ]
    },
    {
     "name": "stderr",
     "output_type": "stream",
     "text": [
      "epoch:  67%|██████████████████████████████████████████████████▋                         | 8/12 [08:39<04:19, 64.88s/it]"
     ]
    },
    {
     "name": "stdout",
     "output_type": "stream",
     "text": [
      "\n",
      "Epoch 008 train_loss: 0.2170     val_loss 0.6399 train_acc 0.9337 val_acc 0.8545\n",
      "loss 0.18910988658671718\n"
     ]
    },
    {
     "name": "stderr",
     "output_type": "stream",
     "text": [
      "epoch:  75%|█████████████████████████████████████████████████████████                   | 9/12 [09:43<03:14, 64.76s/it]"
     ]
    },
    {
     "name": "stdout",
     "output_type": "stream",
     "text": [
      "\n",
      "Epoch 009 train_loss: 0.1891     val_loss 0.6574 train_acc 0.9423 val_acc 0.8650\n",
      "loss 0.1658067927994266\n"
     ]
    },
    {
     "name": "stderr",
     "output_type": "stream",
     "text": [
      "epoch:  83%|██████████████████████████████████████████████████████████████▌            | 10/12 [10:48<02:09, 64.79s/it]"
     ]
    },
    {
     "name": "stdout",
     "output_type": "stream",
     "text": [
      "\n",
      "Epoch 010 train_loss: 0.1658     val_loss 0.6987 train_acc 0.9492 val_acc 0.8531\n",
      "loss 0.1477308913574301\n"
     ]
    },
    {
     "name": "stderr",
     "output_type": "stream",
     "text": [
      "epoch:  92%|████████████████████████████████████████████████████████████████████▊      | 11/12 [11:53<01:04, 64.74s/it]"
     ]
    },
    {
     "name": "stdout",
     "output_type": "stream",
     "text": [
      "\n",
      "Epoch 011 train_loss: 0.1477     val_loss 0.6992 train_acc 0.9535 val_acc 0.8655\n",
      "loss 0.15969387036387328\n"
     ]
    },
    {
     "name": "stderr",
     "output_type": "stream",
     "text": [
      "epoch: 100%|███████████████████████████████████████████████████████████████████████████| 12/12 [12:58<00:00, 64.85s/it]"
     ]
    },
    {
     "name": "stdout",
     "output_type": "stream",
     "text": [
      "\n",
      "Epoch 012 train_loss: 0.1597     val_loss 0.7630 train_acc 0.9539 val_acc 0.8552\n"
     ]
    },
    {
     "name": "stderr",
     "output_type": "stream",
     "text": [
      "\n"
     ]
    },
    {
     "data": {
      "image/png": "[encoded data removed]",
      "text/plain": [
       "<Figure size 1080x648 with 1 Axes>"
      ]
     },
     "metadata": {
      "needs_background": "light"
     },
     "output_type": "display_data"
    },
    {
     "name": "stderr",
     "output_type": "stream",
     "text": [
      "\r",
      "epoch:   0%|                                                                                    | 0/12 [00:00<?, ?it/s]"
     ]
    },
    {
     "name": "stdout",
     "output_type": "stream",
     "text": [
      "\n",
      "FOLD 3\n",
      "loss 1.9246078220522111\n"
     ]
    },
    {
     "name": "stderr",
     "output_type": "stream",
     "text": [
      "epoch:   8%|██████▎                                                                     | 1/12 [01:04<11:54, 64.91s/it]"
     ]
    },
    {
     "name": "stdout",
     "output_type": "stream",
     "text": [
      "\n",
      "Epoch 001 train_loss: 1.9246     val_loss 1.4074 train_acc 0.4798 val_acc 0.6077\n",
      "loss 1.123097960190525\n"
     ]
    },
    {
     "name": "stderr",
     "output_type": "stream",
     "text": [
      "epoch:  17%|████████████▋                                                               | 2/12 [02:10<10:50, 65.03s/it]"
     ]
    },
    {
     "name": "stdout",
     "output_type": "stream",
     "text": [
      "\n",
      "Epoch 002 train_loss: 1.1231     val_loss 0.8787 train_acc 0.6864 val_acc 0.7587\n",
      "loss 0.7176651505999126\n"
     ]
    },
    {
     "name": "stderr",
     "output_type": "stream",
     "text": [
      "epoch:  25%|███████████████████                                                         | 3/12 [03:14<09:44, 64.94s/it]"
     ]
    },
    {
     "name": "stdout",
     "output_type": "stream",
     "text": [
      "\n",
      "Epoch 003 train_loss: 0.7177     val_loss 0.7574 train_acc 0.7974 val_acc 0.7953\n",
      "loss 0.5156678476754357\n"
     ]
    },
    {
     "name": "stderr",
     "output_type": "stream",
     "text": [
      "epoch:  33%|█████████████████████████▎                                                  | 4/12 [04:24<08:50, 66.33s/it]"
     ]
    },
    {
     "name": "stdout",
     "output_type": "stream",
     "text": [
      "\n",
      "Epoch 004 train_loss: 0.5157     val_loss 0.6571 train_acc 0.8491 val_acc 0.8204\n",
      "loss 0.39942179841358005\n"
     ]
    },
    {
     "name": "stderr",
     "output_type": "stream",
     "text": [
      "epoch:  42%|███████████████████████████████▋                                            | 5/12 [05:32<07:48, 66.97s/it]"
     ]
    },
    {
     "name": "stdout",
     "output_type": "stream",
     "text": [
      "\n",
      "Epoch 005 train_loss: 0.3994     val_loss 0.6155 train_acc 0.8845 val_acc 0.8398\n",
      "loss 0.31704421374608555\n"
     ]
    },
    {
     "name": "stderr",
     "output_type": "stream",
     "text": [
      "epoch:  50%|██████████████████████████████████████                                      | 6/12 [06:39<06:40, 66.81s/it]"
     ]
    },
    {
     "name": "stdout",
     "output_type": "stream",
     "text": [
      "\n",
      "Epoch 006 train_loss: 0.3170     val_loss 0.6214 train_acc 0.9061 val_acc 0.8501\n",
      "loss 0.24507928176446345\n"
     ]
    },
    {
     "name": "stderr",
     "output_type": "stream",
     "text": [
      "epoch:  58%|████████████████████████████████████████████▎                               | 7/12 [07:47<05:35, 67.15s/it]"
     ]
    },
    {
     "name": "stdout",
     "output_type": "stream",
     "text": [
      "\n",
      "Epoch 007 train_loss: 0.2451     val_loss 0.6780 train_acc 0.9259 val_acc 0.8526\n",
      "loss 0.22443972951612903\n"
     ]
    },
    {
     "name": "stderr",
     "output_type": "stream",
     "text": [
      "epoch:  67%|██████████████████████████████████████████████████▋                         | 8/12 [08:53<04:27, 66.93s/it]"
     ]
    },
    {
     "name": "stdout",
     "output_type": "stream",
     "text": [
      "\n",
      "Epoch 008 train_loss: 0.2244     val_loss 0.6497 train_acc 0.9308 val_acc 0.8499\n",
      "loss 0.1899654502803295\n"
     ]
    },
    {
     "name": "stderr",
     "output_type": "stream",
     "text": [
      "epoch:  75%|█████████████████████████████████████████████████████████                   | 9/12 [10:01<03:21, 67.14s/it]"
     ]
    },
    {
     "name": "stdout",
     "output_type": "stream",
     "text": [
      "\n",
      "Epoch 009 train_loss: 0.1900     val_loss 0.6460 train_acc 0.9411 val_acc 0.8599\n",
      "loss 0.16038630908660417\n"
     ]
    },
    {
     "name": "stderr",
     "output_type": "stream",
     "text": [
      "epoch:  83%|██████████████████████████████████████████████████████████████▌            | 10/12 [11:09<02:14, 67.33s/it]"
     ]
    },
    {
     "name": "stdout",
     "output_type": "stream",
     "text": [
      "\n",
      "Epoch 010 train_loss: 0.1604     val_loss 0.6211 train_acc 0.9507 val_acc 0.8771\n",
      "loss 0.14570481433085822\n"
     ]
    },
    {
     "name": "stderr",
     "output_type": "stream",
     "text": [
      "epoch:  92%|████████████████████████████████████████████████████████████████████▊      | 11/12 [12:16<01:07, 67.18s/it]"
     ]
    },
    {
     "name": "stdout",
     "output_type": "stream",
     "text": [
      "\n",
      "Epoch 011 train_loss: 0.1457     val_loss 0.6751 train_acc 0.9540 val_acc 0.8620\n",
      "loss 0.14933900230871072\n"
     ]
    },
    {
     "name": "stderr",
     "output_type": "stream",
     "text": [
      "epoch: 100%|███████████████████████████████████████████████████████████████████████████| 12/12 [13:22<00:00, 66.85s/it]"
     ]
    },
    {
     "name": "stdout",
     "output_type": "stream",
     "text": [
      "\n",
      "Epoch 012 train_loss: 0.1493     val_loss 0.6591 train_acc 0.9551 val_acc 0.8604\n"
     ]
    },
    {
     "name": "stderr",
     "output_type": "stream",
     "text": [
      "\n"
     ]
    },
    {
     "data": {
      "image/png": "[encoded data removed]",
      "text/plain": [
       "<Figure size 1080x648 with 1 Axes>"
      ]
     },
     "metadata": {
      "needs_background": "light"
     },
     "output_type": "display_data"
    },
    {
     "name": "stderr",
     "output_type": "stream",
     "text": [
      "\r",
      "epoch:   0%|                                                                                    | 0/12 [00:00<?, ?it/s]"
     ]
    },
    {
     "name": "stdout",
     "output_type": "stream",
     "text": [
      "\n",
      "FOLD 4\n",
      "loss 1.8704300708868788\n"
     ]
    },
    {
     "name": "stderr",
     "output_type": "stream",
     "text": [
      "epoch:   8%|██████▎                                                                     | 1/12 [01:04<11:44, 64.07s/it]"
     ]
    },
    {
     "name": "stdout",
     "output_type": "stream",
     "text": [
      "\n",
      "Epoch 001 train_loss: 1.8704     val_loss 1.3667 train_acc 0.4970 val_acc 0.6043\n",
      "loss 1.0555363367789816\n"
     ]
    },
    {
     "name": "stderr",
     "output_type": "stream",
     "text": [
      "epoch:  17%|████████████▋                                                               | 2/12 [02:11<10:50, 65.09s/it]"
     ]
    },
    {
     "name": "stdout",
     "output_type": "stream",
     "text": [
      "\n",
      "Epoch 002 train_loss: 1.0555     val_loss 1.0045 train_acc 0.7050 val_acc 0.7126\n",
      "loss 0.6595644552050013\n"
     ]
    },
    {
     "name": "stderr",
     "output_type": "stream",
     "text": [
      "epoch:  25%|███████████████████                                                         | 3/12 [03:18<09:52, 65.79s/it]"
     ]
    },
    {
     "name": "stdout",
     "output_type": "stream",
     "text": [
      "\n",
      "Epoch 003 train_loss: 0.6596     val_loss 0.7765 train_acc 0.8137 val_acc 0.7809\n",
      "loss 0.48068209522319205\n"
     ]
    },
    {
     "name": "stderr",
     "output_type": "stream",
     "text": [
      "epoch:  33%|█████████████████████████▎                                                  | 4/12 [04:27<08:53, 66.73s/it]"
     ]
    },
    {
     "name": "stdout",
     "output_type": "stream",
     "text": [
      "\n",
      "Epoch 004 train_loss: 0.4807     val_loss 0.7164 train_acc 0.8626 val_acc 0.8074\n",
      "loss 0.37862955030885714\n"
     ]
    },
    {
     "name": "stderr",
     "output_type": "stream",
     "text": [
      "epoch:  42%|███████████████████████████████▋                                            | 5/12 [05:36<07:50, 67.15s/it]"
     ]
    },
    {
     "name": "stdout",
     "output_type": "stream",
     "text": [
      "\n",
      "Epoch 005 train_loss: 0.3786     val_loss 0.6113 train_acc 0.8910 val_acc 0.8355\n",
      "loss 0.2804546102294236\n"
     ]
    },
    {
     "name": "stderr",
     "output_type": "stream",
     "text": [
      "epoch:  50%|██████████████████████████████████████                                      | 6/12 [06:43<06:43, 67.31s/it]"
     ]
    },
    {
     "name": "stdout",
     "output_type": "stream",
     "text": [
      "\n",
      "Epoch 006 train_loss: 0.2805     val_loss 0.6250 train_acc 0.9156 val_acc 0.8478\n",
      "loss 0.2405822817085131\n"
     ]
    },
    {
     "name": "stderr",
     "output_type": "stream",
     "text": [
      "epoch:  58%|████████████████████████████████████████████▎                               | 7/12 [07:49<05:34, 66.86s/it]"
     ]
    },
    {
     "name": "stdout",
     "output_type": "stream",
     "text": [
      "\n",
      "Epoch 007 train_loss: 0.2406     val_loss 0.6103 train_acc 0.9284 val_acc 0.8488\n",
      "loss 0.207471887381808\n"
     ]
    },
    {
     "name": "stderr",
     "output_type": "stream",
     "text": [
      "epoch:  67%|██████████████████████████████████████████████████▋                         | 8/12 [08:56<04:27, 66.79s/it]"
     ]
    },
    {
     "name": "stdout",
     "output_type": "stream",
     "text": [
      "\n",
      "Epoch 008 train_loss: 0.2075     val_loss 0.5620 train_acc 0.9379 val_acc 0.8629\n",
      "loss 0.18977606812931347\n"
     ]
    },
    {
     "name": "stderr",
     "output_type": "stream",
     "text": [
      "epoch:  75%|█████████████████████████████████████████████████████████                   | 9/12 [10:02<03:19, 66.60s/it]"
     ]
    },
    {
     "name": "stdout",
     "output_type": "stream",
     "text": [
      "\n",
      "Epoch 009 train_loss: 0.1898     val_loss 0.6823 train_acc 0.9432 val_acc 0.8426\n",
      "loss 0.1596742362052049\n"
     ]
    },
    {
     "name": "stderr",
     "output_type": "stream",
     "text": [
      "epoch:  83%|██████████████████████████████████████████████████████████████▌            | 10/12 [11:06<02:11, 65.86s/it]"
     ]
    },
    {
     "name": "stdout",
     "output_type": "stream",
     "text": [
      "\n",
      "Epoch 010 train_loss: 0.1597     val_loss 0.6530 train_acc 0.9520 val_acc 0.8561\n",
      "loss 0.1455830160241206\n"
     ]
    },
    {
     "name": "stderr",
     "output_type": "stream",
     "text": [
      "epoch:  92%|████████████████████████████████████████████████████████████████████▊      | 11/12 [12:13<01:06, 66.10s/it]"
     ]
    },
    {
     "name": "stdout",
     "output_type": "stream",
     "text": [
      "\n",
      "Epoch 011 train_loss: 0.1456     val_loss 0.6437 train_acc 0.9568 val_acc 0.8542\n",
      "loss 0.13733453737079315\n"
     ]
    },
    {
     "name": "stderr",
     "output_type": "stream",
     "text": [
      "epoch: 100%|███████████████████████████████████████████████████████████████████████████| 12/12 [13:21<00:00, 66.82s/it]"
     ]
    },
    {
     "name": "stdout",
     "output_type": "stream",
     "text": [
      "\n",
      "Epoch 012 train_loss: 0.1373     val_loss 0.6345 train_acc 0.9581 val_acc 0.8611\n"
     ]
    },
    {
     "name": "stderr",
     "output_type": "stream",
     "text": [
      "\n"
     ]
    },
    {
     "data": {
      "image/png": "[encoded data removed]",
      "text/plain": [
       "<Figure size 1080x648 with 1 Axes>"
      ]
     },
     "metadata": {
      "needs_background": "light"
     },
     "output_type": "display_data"
    },
    {
     "name": "stderr",
     "output_type": "stream",
     "text": [
      "\r",
      "epoch:   0%|                                                                                    | 0/12 [00:00<?, ?it/s]"
     ]
    },
    {
     "name": "stdout",
     "output_type": "stream",
     "text": [
      "\n",
      "FOLD 5\n",
      "loss 1.943336130032738\n"
     ]
    },
    {
     "name": "stderr",
     "output_type": "stream",
     "text": [
      "epoch:   8%|██████▎                                                                     | 1/12 [01:10<12:52, 70.27s/it]"
     ]
    },
    {
     "name": "stdout",
     "output_type": "stream",
     "text": [
      "\n",
      "Epoch 001 train_loss: 1.9433     val_loss 1.4616 train_acc 0.4721 val_acc 0.5901\n",
      "loss 1.0980291054086777\n"
     ]
    },
    {
     "name": "stderr",
     "output_type": "stream",
     "text": [
      "epoch:  17%|████████████▋                                                               | 2/12 [02:16<11:30, 69.07s/it]"
     ]
    },
    {
     "name": "stdout",
     "output_type": "stream",
     "text": [
      "\n",
      "Epoch 002 train_loss: 1.0980     val_loss 0.8976 train_acc 0.6939 val_acc 0.7510\n",
      "loss 0.7044856818657749\n"
     ]
    },
    {
     "name": "stderr",
     "output_type": "stream",
     "text": [
      "epoch:  25%|███████████████████                                                         | 3/12 [03:25<10:20, 69.00s/it]"
     ]
    },
    {
     "name": "stdout",
     "output_type": "stream",
     "text": [
      "\n",
      "Epoch 003 train_loss: 0.7045     val_loss 0.7412 train_acc 0.8010 val_acc 0.7930\n",
      "loss 0.5044806808624726\n"
     ]
    },
    {
     "name": "stderr",
     "output_type": "stream",
     "text": [
      "epoch:  33%|█████████████████████████▎                                                  | 4/12 [04:31<09:04, 68.04s/it]"
     ]
    },
    {
     "name": "stdout",
     "output_type": "stream",
     "text": [
      "\n",
      "Epoch 004 train_loss: 0.5045     val_loss 0.6280 train_acc 0.8549 val_acc 0.8309\n",
      "loss 0.3916916635327854\n"
     ]
    },
    {
     "name": "stderr",
     "output_type": "stream",
     "text": [
      "epoch:  42%|███████████████████████████████▋                                            | 5/12 [05:36<07:51, 67.29s/it]"
     ]
    },
    {
     "name": "stdout",
     "output_type": "stream",
     "text": [
      "\n",
      "Epoch 005 train_loss: 0.3917     val_loss 0.6330 train_acc 0.8852 val_acc 0.8325\n",
      "loss 0.303552966639357\n"
     ]
    },
    {
     "name": "stderr",
     "output_type": "stream",
     "text": [
      "epoch:  50%|██████████████████████████████████████                                      | 6/12 [06:41<06:39, 66.54s/it]"
     ]
    },
    {
     "name": "stdout",
     "output_type": "stream",
     "text": [
      "\n",
      "Epoch 006 train_loss: 0.3036     val_loss 0.6388 train_acc 0.9095 val_acc 0.8531\n",
      "loss 0.2601928674956855\n"
     ]
    },
    {
     "name": "stderr",
     "output_type": "stream",
     "text": [
      "epoch:  58%|████████████████████████████████████████████▎                               | 7/12 [07:46<05:30, 66.10s/it]"
     ]
    },
    {
     "name": "stdout",
     "output_type": "stream",
     "text": [
      "\n",
      "Epoch 007 train_loss: 0.2602     val_loss 0.6682 train_acc 0.9236 val_acc 0.8376\n",
      "loss 0.22050374328732694\n"
     ]
    },
    {
     "name": "stderr",
     "output_type": "stream",
     "text": [
      "epoch:  67%|██████████████████████████████████████████████████▋                         | 8/12 [08:54<04:26, 66.65s/it]"
     ]
    },
    {
     "name": "stdout",
     "output_type": "stream",
     "text": [
      "\n",
      "Epoch 008 train_loss: 0.2205     val_loss 0.6039 train_acc 0.9344 val_acc 0.8631\n",
      "loss 0.19687446668480274\n"
     ]
    },
    {
     "name": "stderr",
     "output_type": "stream",
     "text": [
      "epoch:  75%|█████████████████████████████████████████████████████████                   | 9/12 [10:05<03:23, 67.94s/it]"
     ]
    },
    {
     "name": "stdout",
     "output_type": "stream",
     "text": [
      "\n",
      "Epoch 009 train_loss: 0.1969     val_loss 0.6468 train_acc 0.9407 val_acc 0.8490\n",
      "loss 0.1589484334843013\n"
     ]
    },
    {
     "name": "stderr",
     "output_type": "stream",
     "text": [
      "epoch:  83%|██████████████████████████████████████████████████████████████▌            | 10/12 [11:14<02:16, 68.41s/it]"
     ]
    },
    {
     "name": "stdout",
     "output_type": "stream",
     "text": [
      "\n",
      "Epoch 010 train_loss: 0.1589     val_loss 0.6734 train_acc 0.9515 val_acc 0.8606\n",
      "loss 0.15484432401247258\n"
     ]
    },
    {
     "name": "stderr",
     "output_type": "stream",
     "text": [
      "epoch:  92%|████████████████████████████████████████████████████████████████████▊      | 11/12 [12:24<01:08, 68.81s/it]"
     ]
    },
    {
     "name": "stdout",
     "output_type": "stream",
     "text": [
      "\n",
      "Epoch 011 train_loss: 0.1548     val_loss 0.6725 train_acc 0.9543 val_acc 0.8494\n",
      "loss 0.12787964933263038\n"
     ]
    },
    {
     "name": "stderr",
     "output_type": "stream",
     "text": [
      "epoch: 100%|███████████████████████████████████████████████████████████████████████████| 12/12 [13:33<00:00, 67.83s/it]"
     ]
    },
    {
     "name": "stdout",
     "output_type": "stream",
     "text": [
      "\n",
      "Epoch 012 train_loss: 0.1279     val_loss 0.7271 train_acc 0.9611 val_acc 0.8643\n"
     ]
    },
    {
     "name": "stderr",
     "output_type": "stream",
     "text": [
      "\n"
     ]
    },
    {
     "data": {
      "image/png": "[encoded data removed]",
      "text/plain": [
       "<Figure size 1080x648 with 1 Axes>"
      ]
     },
     "metadata": {
      "needs_background": "light"
     },
     "output_type": "display_data"
    }
   ],
   "source": [
    "label_encoder = pickle.load(open(\"label_encoder.pkl\", 'rb'))\n",
    "test_dataset = SimpsonsDataset(test_files, mode=\"test\")\n",
    "test_loader = DataLoader(test_dataset, shuffle=False, batch_size=64)\n",
    "submit = pd.DataFrame(columns=['Id'])\n",
    "\n",
    "n_folds = 5\n",
    "skf = StratifiedKFold(n_splits=n_folds, shuffle=True, random_state=SEED)\n",
    "n_classes = len(np.unique(train_val_labels))\n",
    "\n",
    "for fold, (train_idx, val_idx) in enumerate(skf.split(train_val_files, label_encoder.transform(train_val_labels))):\n",
    "    print('\\nFOLD', fold+1)\n",
    "    val_dataset = SimpsonsDataset(np.array(train_val_files)[val_idx], mode='val')\n",
    "    train_dataset = SimpsonsDataset(np.array(train_val_files)[train_idx], mode='train')\n",
    "    \n",
    "    model = MyCnn(n_classes).to(DEVICE)\n",
    "    history = train(train_dataset, val_dataset, model=model, epochs=EPOCHS, batch_size=BATCH_SIZE)\n",
    "    \n",
    "    loss, acc, val_loss, val_acc = zip(*history)\n",
    "    plt.figure(figsize=(15, 9))\n",
    "    plt.plot(loss, label=\"train_loss\")\n",
    "    plt.plot(val_loss, label=\"val_loss\")\n",
    "    plt.legend(loc='best')\n",
    "    plt.xlabel(\"epochs\")\n",
    "    plt.ylabel(\"loss\")\n",
    "    plt.show()\n",
    "    plt.close()\n",
    "    \n",
    "    probs = predict(model, test_loader)\n",
    "    preds = label_encoder.inverse_transform(np.argmax(probs, axis=1))\n",
    "    \n",
    "    submit[f'fold_{fold+1}'] = preds"
   ]
  },
  {
   "cell_type": "code",
   "execution_count": null,
   "metadata": {},
   "outputs": [],
   "source": []
  },
  {
   "cell_type": "code",
   "execution_count": null,
   "metadata": {},
   "outputs": [],
   "source": []
  },
  {
   "cell_type": "code",
   "execution_count": null,
   "metadata": {},
   "outputs": [],
   "source": []
  },
  {
   "cell_type": "code",
   "execution_count": 16,
   "metadata": {},
   "outputs": [
    {
     "data": {
      "text/plain": [
       "0.25263157894736843"
      ]
     },
     "execution_count": 16,
     "metadata": {},
     "output_type": "execute_result"
    }
   ],
   "source": [
    "def predict_one_sample(model, inputs, device=DEVICE):\n",
    "    \"\"\"Предсказание, для одной картинки\"\"\"\n",
    "    with torch.no_grad():\n",
    "        inputs = inputs.to(device)\n",
    "        model.eval()\n",
    "        logit = model(inputs).cpu()\n",
    "        probs = torch.nn.functional.softmax(logit, dim=-1).numpy()\n",
    "    return probs\n",
    "\n",
    "#model = MyCnn(n_classes).to(DEVICE)\n",
    "model.load_state_dict(torch.load('./model/simplecnn.mdl'))\n",
    "model.eval()\n",
    "\n",
    "random_characters = int(np.random.uniform(0,1000))\n",
    "ex_img, true_label = train_dataset[random_characters]\n",
    "probs_im = predict_one_sample(test_model, ex_img.unsqueeze(0))\n",
    "idxs = list(map(int, np.random.uniform(0,1000, 20)))\n",
    "\n",
    "imgs = [val_dataset[id][0].unsqueeze(0) for id in idxs]\n",
    "probs_ims = predict(model, imgs)\n",
    "\n",
    "label_encoder = pickle.load(open(\"label_encoder.pkl\", 'rb'))\n",
    "\n",
    "y_pred = np.argmax(probs_ims,-1)\n",
    "actual_labels = [train_dataset[id][1] for id in idxs]\n",
    "preds_class = [label_encoder.classes_[i] for i in y_pred]\n",
    "\n",
    "f1_score(actual_labels, y_pred, average='weighted')"
   ]
  },
  {
   "cell_type": "code",
   "execution_count": null,
   "metadata": {},
   "outputs": [],
   "source": []
  },
  {
   "cell_type": "code",
   "execution_count": null,
   "metadata": {},
   "outputs": [],
   "source": []
  },
  {
   "cell_type": "code",
   "execution_count": null,
   "metadata": {},
   "outputs": [],
   "source": []
  },
  {
   "cell_type": "code",
   "execution_count": null,
   "metadata": {},
   "outputs": [],
   "source": []
  },
  {
   "cell_type": "code",
   "execution_count": null,
   "metadata": {},
   "outputs": [],
   "source": []
  },
  {
   "cell_type": "code",
   "execution_count": null,
   "metadata": {},
   "outputs": [],
   "source": []
  },
  {
   "cell_type": "code",
   "execution_count": 17,
   "metadata": {},
   "outputs": [
    {
     "data": {
      "text/html": [
       "<div>\n",
       "<style scoped>\n",
       "    .dataframe tbody tr th:only-of-type {\n",
       "        vertical-align: middle;\n",
       "    }\n",
       "\n",
       "    .dataframe tbody tr th {\n",
       "        vertical-align: top;\n",
       "    }\n",
       "\n",
       "    .dataframe thead th {\n",
       "        text-align: right;\n",
       "    }\n",
       "</style>\n",
       "<table border=\"1\" class=\"dataframe\">\n",
       "  <thead>\n",
       "    <tr style=\"text-align: right;\">\n",
       "      <th></th>\n",
       "      <th>Id</th>\n",
       "      <th>fold_1</th>\n",
       "      <th>fold_2</th>\n",
       "      <th>fold_3</th>\n",
       "      <th>fold_4</th>\n",
       "      <th>fold_5</th>\n",
       "      <th>Expected</th>\n",
       "    </tr>\n",
       "  </thead>\n",
       "  <tbody>\n",
       "    <tr>\n",
       "      <th>0</th>\n",
       "      <td>img0.jpg</td>\n",
       "      <td>nelson_muntz</td>\n",
       "      <td>nelson_muntz</td>\n",
       "      <td>nelson_muntz</td>\n",
       "      <td>nelson_muntz</td>\n",
       "      <td>nelson_muntz</td>\n",
       "      <td>nelson_muntz</td>\n",
       "    </tr>\n",
       "    <tr>\n",
       "      <th>1</th>\n",
       "      <td>img1.jpg</td>\n",
       "      <td>bart_simpson</td>\n",
       "      <td>bart_simpson</td>\n",
       "      <td>bart_simpson</td>\n",
       "      <td>bart_simpson</td>\n",
       "      <td>bart_simpson</td>\n",
       "      <td>bart_simpson</td>\n",
       "    </tr>\n",
       "    <tr>\n",
       "      <th>2</th>\n",
       "      <td>img10.jpg</td>\n",
       "      <td>ned_flanders</td>\n",
       "      <td>ned_flanders</td>\n",
       "      <td>ned_flanders</td>\n",
       "      <td>ned_flanders</td>\n",
       "      <td>ned_flanders</td>\n",
       "      <td>ned_flanders</td>\n",
       "    </tr>\n",
       "    <tr>\n",
       "      <th>3</th>\n",
       "      <td>img100.jpg</td>\n",
       "      <td>chief_wiggum</td>\n",
       "      <td>chief_wiggum</td>\n",
       "      <td>chief_wiggum</td>\n",
       "      <td>chief_wiggum</td>\n",
       "      <td>chief_wiggum</td>\n",
       "      <td>chief_wiggum</td>\n",
       "    </tr>\n",
       "    <tr>\n",
       "      <th>4</th>\n",
       "      <td>img101.jpg</td>\n",
       "      <td>apu_nahasapeemapetilon</td>\n",
       "      <td>apu_nahasapeemapetilon</td>\n",
       "      <td>apu_nahasapeemapetilon</td>\n",
       "      <td>apu_nahasapeemapetilon</td>\n",
       "      <td>apu_nahasapeemapetilon</td>\n",
       "      <td>apu_nahasapeemapetilon</td>\n",
       "    </tr>\n",
       "    <tr>\n",
       "      <th>5</th>\n",
       "      <td>img102.jpg</td>\n",
       "      <td>kent_brockman</td>\n",
       "      <td>kent_brockman</td>\n",
       "      <td>kent_brockman</td>\n",
       "      <td>kent_brockman</td>\n",
       "      <td>kent_brockman</td>\n",
       "      <td>kent_brockman</td>\n",
       "    </tr>\n",
       "    <tr>\n",
       "      <th>6</th>\n",
       "      <td>img103.jpg</td>\n",
       "      <td>edna_krabappel</td>\n",
       "      <td>edna_krabappel</td>\n",
       "      <td>edna_krabappel</td>\n",
       "      <td>edna_krabappel</td>\n",
       "      <td>edna_krabappel</td>\n",
       "      <td>edna_krabappel</td>\n",
       "    </tr>\n",
       "    <tr>\n",
       "      <th>7</th>\n",
       "      <td>img104.jpg</td>\n",
       "      <td>chief_wiggum</td>\n",
       "      <td>chief_wiggum</td>\n",
       "      <td>chief_wiggum</td>\n",
       "      <td>chief_wiggum</td>\n",
       "      <td>chief_wiggum</td>\n",
       "      <td>chief_wiggum</td>\n",
       "    </tr>\n",
       "    <tr>\n",
       "      <th>8</th>\n",
       "      <td>img105.jpg</td>\n",
       "      <td>lisa_simpson</td>\n",
       "      <td>lisa_simpson</td>\n",
       "      <td>lisa_simpson</td>\n",
       "      <td>lisa_simpson</td>\n",
       "      <td>lisa_simpson</td>\n",
       "      <td>lisa_simpson</td>\n",
       "    </tr>\n",
       "    <tr>\n",
       "      <th>9</th>\n",
       "      <td>img106.jpg</td>\n",
       "      <td>kent_brockman</td>\n",
       "      <td>kent_brockman</td>\n",
       "      <td>kent_brockman</td>\n",
       "      <td>kent_brockman</td>\n",
       "      <td>kent_brockman</td>\n",
       "      <td>kent_brockman</td>\n",
       "    </tr>\n",
       "    <tr>\n",
       "      <th>10</th>\n",
       "      <td>img107.jpg</td>\n",
       "      <td>lenny_leonard</td>\n",
       "      <td>lenny_leonard</td>\n",
       "      <td>lenny_leonard</td>\n",
       "      <td>lenny_leonard</td>\n",
       "      <td>lenny_leonard</td>\n",
       "      <td>lenny_leonard</td>\n",
       "    </tr>\n",
       "    <tr>\n",
       "      <th>11</th>\n",
       "      <td>img108.jpg</td>\n",
       "      <td>marge_simpson</td>\n",
       "      <td>marge_simpson</td>\n",
       "      <td>marge_simpson</td>\n",
       "      <td>marge_simpson</td>\n",
       "      <td>marge_simpson</td>\n",
       "      <td>marge_simpson</td>\n",
       "    </tr>\n",
       "    <tr>\n",
       "      <th>12</th>\n",
       "      <td>img109.jpg</td>\n",
       "      <td>kent_brockman</td>\n",
       "      <td>kent_brockman</td>\n",
       "      <td>kent_brockman</td>\n",
       "      <td>kent_brockman</td>\n",
       "      <td>otto_mann</td>\n",
       "      <td>kent_brockman</td>\n",
       "    </tr>\n",
       "    <tr>\n",
       "      <th>13</th>\n",
       "      <td>img11.jpg</td>\n",
       "      <td>ned_flanders</td>\n",
       "      <td>ned_flanders</td>\n",
       "      <td>ned_flanders</td>\n",
       "      <td>ned_flanders</td>\n",
       "      <td>ned_flanders</td>\n",
       "      <td>ned_flanders</td>\n",
       "    </tr>\n",
       "    <tr>\n",
       "      <th>14</th>\n",
       "      <td>img110.jpg</td>\n",
       "      <td>moe_szyslak</td>\n",
       "      <td>moe_szyslak</td>\n",
       "      <td>moe_szyslak</td>\n",
       "      <td>moe_szyslak</td>\n",
       "      <td>moe_szyslak</td>\n",
       "      <td>moe_szyslak</td>\n",
       "    </tr>\n",
       "    <tr>\n",
       "      <th>15</th>\n",
       "      <td>img111.jpg</td>\n",
       "      <td>comic_book_guy</td>\n",
       "      <td>comic_book_guy</td>\n",
       "      <td>comic_book_guy</td>\n",
       "      <td>homer_simpson</td>\n",
       "      <td>comic_book_guy</td>\n",
       "      <td>comic_book_guy</td>\n",
       "    </tr>\n",
       "    <tr>\n",
       "      <th>16</th>\n",
       "      <td>img112.jpg</td>\n",
       "      <td>abraham_grampa_simpson</td>\n",
       "      <td>charles_montgomery_burns</td>\n",
       "      <td>abraham_grampa_simpson</td>\n",
       "      <td>abraham_grampa_simpson</td>\n",
       "      <td>abraham_grampa_simpson</td>\n",
       "      <td>abraham_grampa_simpson</td>\n",
       "    </tr>\n",
       "    <tr>\n",
       "      <th>17</th>\n",
       "      <td>img113.jpg</td>\n",
       "      <td>edna_krabappel</td>\n",
       "      <td>edna_krabappel</td>\n",
       "      <td>edna_krabappel</td>\n",
       "      <td>edna_krabappel</td>\n",
       "      <td>ned_flanders</td>\n",
       "      <td>edna_krabappel</td>\n",
       "    </tr>\n",
       "    <tr>\n",
       "      <th>18</th>\n",
       "      <td>img114.jpg</td>\n",
       "      <td>kent_brockman</td>\n",
       "      <td>kent_brockman</td>\n",
       "      <td>agnes_skinner</td>\n",
       "      <td>kent_brockman</td>\n",
       "      <td>kent_brockman</td>\n",
       "      <td>kent_brockman</td>\n",
       "    </tr>\n",
       "    <tr>\n",
       "      <th>19</th>\n",
       "      <td>img115.jpg</td>\n",
       "      <td>lisa_simpson</td>\n",
       "      <td>edna_krabappel</td>\n",
       "      <td>bart_simpson</td>\n",
       "      <td>lisa_simpson</td>\n",
       "      <td>lisa_simpson</td>\n",
       "      <td>lisa_simpson</td>\n",
       "    </tr>\n",
       "    <tr>\n",
       "      <th>20</th>\n",
       "      <td>img116.jpg</td>\n",
       "      <td>marge_simpson</td>\n",
       "      <td>marge_simpson</td>\n",
       "      <td>marge_simpson</td>\n",
       "      <td>marge_simpson</td>\n",
       "      <td>marge_simpson</td>\n",
       "      <td>marge_simpson</td>\n",
       "    </tr>\n",
       "    <tr>\n",
       "      <th>21</th>\n",
       "      <td>img117.jpg</td>\n",
       "      <td>nelson_muntz</td>\n",
       "      <td>nelson_muntz</td>\n",
       "      <td>nelson_muntz</td>\n",
       "      <td>nelson_muntz</td>\n",
       "      <td>nelson_muntz</td>\n",
       "      <td>nelson_muntz</td>\n",
       "    </tr>\n",
       "    <tr>\n",
       "      <th>22</th>\n",
       "      <td>img118.jpg</td>\n",
       "      <td>comic_book_guy</td>\n",
       "      <td>comic_book_guy</td>\n",
       "      <td>comic_book_guy</td>\n",
       "      <td>comic_book_guy</td>\n",
       "      <td>comic_book_guy</td>\n",
       "      <td>comic_book_guy</td>\n",
       "    </tr>\n",
       "    <tr>\n",
       "      <th>23</th>\n",
       "      <td>img119.jpg</td>\n",
       "      <td>mayor_quimby</td>\n",
       "      <td>mayor_quimby</td>\n",
       "      <td>mayor_quimby</td>\n",
       "      <td>mayor_quimby</td>\n",
       "      <td>mayor_quimby</td>\n",
       "      <td>mayor_quimby</td>\n",
       "    </tr>\n",
       "    <tr>\n",
       "      <th>24</th>\n",
       "      <td>img12.jpg</td>\n",
       "      <td>homer_simpson</td>\n",
       "      <td>homer_simpson</td>\n",
       "      <td>homer_simpson</td>\n",
       "      <td>homer_simpson</td>\n",
       "      <td>homer_simpson</td>\n",
       "      <td>homer_simpson</td>\n",
       "    </tr>\n",
       "    <tr>\n",
       "      <th>25</th>\n",
       "      <td>img120.jpg</td>\n",
       "      <td>apu_nahasapeemapetilon</td>\n",
       "      <td>apu_nahasapeemapetilon</td>\n",
       "      <td>apu_nahasapeemapetilon</td>\n",
       "      <td>apu_nahasapeemapetilon</td>\n",
       "      <td>apu_nahasapeemapetilon</td>\n",
       "      <td>apu_nahasapeemapetilon</td>\n",
       "    </tr>\n",
       "    <tr>\n",
       "      <th>26</th>\n",
       "      <td>img121.jpg</td>\n",
       "      <td>krusty_the_clown</td>\n",
       "      <td>krusty_the_clown</td>\n",
       "      <td>krusty_the_clown</td>\n",
       "      <td>krusty_the_clown</td>\n",
       "      <td>krusty_the_clown</td>\n",
       "      <td>krusty_the_clown</td>\n",
       "    </tr>\n",
       "    <tr>\n",
       "      <th>27</th>\n",
       "      <td>img122.jpg</td>\n",
       "      <td>krusty_the_clown</td>\n",
       "      <td>krusty_the_clown</td>\n",
       "      <td>krusty_the_clown</td>\n",
       "      <td>krusty_the_clown</td>\n",
       "      <td>krusty_the_clown</td>\n",
       "      <td>krusty_the_clown</td>\n",
       "    </tr>\n",
       "    <tr>\n",
       "      <th>28</th>\n",
       "      <td>img123.jpg</td>\n",
       "      <td>ned_flanders</td>\n",
       "      <td>ned_flanders</td>\n",
       "      <td>ned_flanders</td>\n",
       "      <td>ned_flanders</td>\n",
       "      <td>ned_flanders</td>\n",
       "      <td>ned_flanders</td>\n",
       "    </tr>\n",
       "    <tr>\n",
       "      <th>29</th>\n",
       "      <td>img124.jpg</td>\n",
       "      <td>edna_krabappel</td>\n",
       "      <td>edna_krabappel</td>\n",
       "      <td>edna_krabappel</td>\n",
       "      <td>edna_krabappel</td>\n",
       "      <td>edna_krabappel</td>\n",
       "      <td>edna_krabappel</td>\n",
       "    </tr>\n",
       "    <tr>\n",
       "      <th>30</th>\n",
       "      <td>img125.jpg</td>\n",
       "      <td>apu_nahasapeemapetilon</td>\n",
       "      <td>apu_nahasapeemapetilon</td>\n",
       "      <td>apu_nahasapeemapetilon</td>\n",
       "      <td>apu_nahasapeemapetilon</td>\n",
       "      <td>apu_nahasapeemapetilon</td>\n",
       "      <td>apu_nahasapeemapetilon</td>\n",
       "    </tr>\n",
       "    <tr>\n",
       "      <th>31</th>\n",
       "      <td>img126.jpg</td>\n",
       "      <td>chief_wiggum</td>\n",
       "      <td>chief_wiggum</td>\n",
       "      <td>chief_wiggum</td>\n",
       "      <td>chief_wiggum</td>\n",
       "      <td>chief_wiggum</td>\n",
       "      <td>chief_wiggum</td>\n",
       "    </tr>\n",
       "    <tr>\n",
       "      <th>32</th>\n",
       "      <td>img127.jpg</td>\n",
       "      <td>apu_nahasapeemapetilon</td>\n",
       "      <td>apu_nahasapeemapetilon</td>\n",
       "      <td>apu_nahasapeemapetilon</td>\n",
       "      <td>apu_nahasapeemapetilon</td>\n",
       "      <td>apu_nahasapeemapetilon</td>\n",
       "      <td>apu_nahasapeemapetilon</td>\n",
       "    </tr>\n",
       "    <tr>\n",
       "      <th>33</th>\n",
       "      <td>img128.jpg</td>\n",
       "      <td>ned_flanders</td>\n",
       "      <td>ned_flanders</td>\n",
       "      <td>ned_flanders</td>\n",
       "      <td>ned_flanders</td>\n",
       "      <td>ned_flanders</td>\n",
       "      <td>ned_flanders</td>\n",
       "    </tr>\n",
       "    <tr>\n",
       "      <th>34</th>\n",
       "      <td>img129.jpg</td>\n",
       "      <td>homer_simpson</td>\n",
       "      <td>marge_simpson</td>\n",
       "      <td>marge_simpson</td>\n",
       "      <td>marge_simpson</td>\n",
       "      <td>marge_simpson</td>\n",
       "      <td>marge_simpson</td>\n",
       "    </tr>\n",
       "    <tr>\n",
       "      <th>35</th>\n",
       "      <td>img13.jpg</td>\n",
       "      <td>abraham_grampa_simpson</td>\n",
       "      <td>abraham_grampa_simpson</td>\n",
       "      <td>abraham_grampa_simpson</td>\n",
       "      <td>abraham_grampa_simpson</td>\n",
       "      <td>abraham_grampa_simpson</td>\n",
       "      <td>abraham_grampa_simpson</td>\n",
       "    </tr>\n",
       "    <tr>\n",
       "      <th>36</th>\n",
       "      <td>img130.jpg</td>\n",
       "      <td>homer_simpson</td>\n",
       "      <td>homer_simpson</td>\n",
       "      <td>homer_simpson</td>\n",
       "      <td>homer_simpson</td>\n",
       "      <td>homer_simpson</td>\n",
       "      <td>homer_simpson</td>\n",
       "    </tr>\n",
       "    <tr>\n",
       "      <th>37</th>\n",
       "      <td>img131.jpg</td>\n",
       "      <td>sideshow_bob</td>\n",
       "      <td>sideshow_bob</td>\n",
       "      <td>sideshow_bob</td>\n",
       "      <td>sideshow_bob</td>\n",
       "      <td>sideshow_bob</td>\n",
       "      <td>sideshow_bob</td>\n",
       "    </tr>\n",
       "    <tr>\n",
       "      <th>38</th>\n",
       "      <td>img132.jpg</td>\n",
       "      <td>principal_skinner</td>\n",
       "      <td>lisa_simpson</td>\n",
       "      <td>lisa_simpson</td>\n",
       "      <td>lisa_simpson</td>\n",
       "      <td>lisa_simpson</td>\n",
       "      <td>lisa_simpson</td>\n",
       "    </tr>\n",
       "    <tr>\n",
       "      <th>39</th>\n",
       "      <td>img133.jpg</td>\n",
       "      <td>charles_montgomery_burns</td>\n",
       "      <td>charles_montgomery_burns</td>\n",
       "      <td>charles_montgomery_burns</td>\n",
       "      <td>charles_montgomery_burns</td>\n",
       "      <td>charles_montgomery_burns</td>\n",
       "      <td>charles_montgomery_burns</td>\n",
       "    </tr>\n",
       "    <tr>\n",
       "      <th>40</th>\n",
       "      <td>img134.jpg</td>\n",
       "      <td>chief_wiggum</td>\n",
       "      <td>chief_wiggum</td>\n",
       "      <td>chief_wiggum</td>\n",
       "      <td>chief_wiggum</td>\n",
       "      <td>chief_wiggum</td>\n",
       "      <td>chief_wiggum</td>\n",
       "    </tr>\n",
       "    <tr>\n",
       "      <th>41</th>\n",
       "      <td>img135.jpg</td>\n",
       "      <td>kent_brockman</td>\n",
       "      <td>kent_brockman</td>\n",
       "      <td>kent_brockman</td>\n",
       "      <td>kent_brockman</td>\n",
       "      <td>kent_brockman</td>\n",
       "      <td>kent_brockman</td>\n",
       "    </tr>\n",
       "    <tr>\n",
       "      <th>42</th>\n",
       "      <td>img136.jpg</td>\n",
       "      <td>abraham_grampa_simpson</td>\n",
       "      <td>abraham_grampa_simpson</td>\n",
       "      <td>abraham_grampa_simpson</td>\n",
       "      <td>abraham_grampa_simpson</td>\n",
       "      <td>abraham_grampa_simpson</td>\n",
       "      <td>abraham_grampa_simpson</td>\n",
       "    </tr>\n",
       "    <tr>\n",
       "      <th>43</th>\n",
       "      <td>img137.jpg</td>\n",
       "      <td>milhouse_van_houten</td>\n",
       "      <td>milhouse_van_houten</td>\n",
       "      <td>moe_szyslak</td>\n",
       "      <td>milhouse_van_houten</td>\n",
       "      <td>milhouse_van_houten</td>\n",
       "      <td>milhouse_van_houten</td>\n",
       "    </tr>\n",
       "    <tr>\n",
       "      <th>44</th>\n",
       "      <td>img138.jpg</td>\n",
       "      <td>lenny_leonard</td>\n",
       "      <td>lenny_leonard</td>\n",
       "      <td>lenny_leonard</td>\n",
       "      <td>lenny_leonard</td>\n",
       "      <td>lenny_leonard</td>\n",
       "      <td>lenny_leonard</td>\n",
       "    </tr>\n",
       "    <tr>\n",
       "      <th>45</th>\n",
       "      <td>img139.jpg</td>\n",
       "      <td>abraham_grampa_simpson</td>\n",
       "      <td>abraham_grampa_simpson</td>\n",
       "      <td>abraham_grampa_simpson</td>\n",
       "      <td>abraham_grampa_simpson</td>\n",
       "      <td>abraham_grampa_simpson</td>\n",
       "      <td>abraham_grampa_simpson</td>\n",
       "    </tr>\n",
       "    <tr>\n",
       "      <th>46</th>\n",
       "      <td>img14.jpg</td>\n",
       "      <td>nelson_muntz</td>\n",
       "      <td>nelson_muntz</td>\n",
       "      <td>nelson_muntz</td>\n",
       "      <td>nelson_muntz</td>\n",
       "      <td>nelson_muntz</td>\n",
       "      <td>nelson_muntz</td>\n",
       "    </tr>\n",
       "    <tr>\n",
       "      <th>47</th>\n",
       "      <td>img140.jpg</td>\n",
       "      <td>comic_book_guy</td>\n",
       "      <td>comic_book_guy</td>\n",
       "      <td>comic_book_guy</td>\n",
       "      <td>comic_book_guy</td>\n",
       "      <td>comic_book_guy</td>\n",
       "      <td>comic_book_guy</td>\n",
       "    </tr>\n",
       "    <tr>\n",
       "      <th>48</th>\n",
       "      <td>img141.jpg</td>\n",
       "      <td>chief_wiggum</td>\n",
       "      <td>chief_wiggum</td>\n",
       "      <td>chief_wiggum</td>\n",
       "      <td>chief_wiggum</td>\n",
       "      <td>chief_wiggum</td>\n",
       "      <td>chief_wiggum</td>\n",
       "    </tr>\n",
       "    <tr>\n",
       "      <th>49</th>\n",
       "      <td>img142.jpg</td>\n",
       "      <td>nelson_muntz</td>\n",
       "      <td>nelson_muntz</td>\n",
       "      <td>nelson_muntz</td>\n",
       "      <td>nelson_muntz</td>\n",
       "      <td>nelson_muntz</td>\n",
       "      <td>nelson_muntz</td>\n",
       "    </tr>\n",
       "  </tbody>\n",
       "</table>\n",
       "</div>"
      ],
      "text/plain": [
       "            Id                    fold_1                    fold_2  \\\n",
       "0     img0.jpg              nelson_muntz              nelson_muntz   \n",
       "1     img1.jpg              bart_simpson              bart_simpson   \n",
       "2    img10.jpg              ned_flanders              ned_flanders   \n",
       "3   img100.jpg              chief_wiggum              chief_wiggum   \n",
       "4   img101.jpg    apu_nahasapeemapetilon    apu_nahasapeemapetilon   \n",
       "5   img102.jpg             kent_brockman             kent_brockman   \n",
       "6   img103.jpg            edna_krabappel            edna_krabappel   \n",
       "7   img104.jpg              chief_wiggum              chief_wiggum   \n",
       "8   img105.jpg              lisa_simpson              lisa_simpson   \n",
       "9   img106.jpg             kent_brockman             kent_brockman   \n",
       "10  img107.jpg             lenny_leonard             lenny_leonard   \n",
       "11  img108.jpg             marge_simpson             marge_simpson   \n",
       "12  img109.jpg             kent_brockman             kent_brockman   \n",
       "13   img11.jpg              ned_flanders              ned_flanders   \n",
       "14  img110.jpg               moe_szyslak               moe_szyslak   \n",
       "15  img111.jpg            comic_book_guy            comic_book_guy   \n",
       "16  img112.jpg    abraham_grampa_simpson  charles_montgomery_burns   \n",
       "17  img113.jpg            edna_krabappel            edna_krabappel   \n",
       "18  img114.jpg             kent_brockman             kent_brockman   \n",
       "19  img115.jpg              lisa_simpson            edna_krabappel   \n",
       "20  img116.jpg             marge_simpson             marge_simpson   \n",
       "21  img117.jpg              nelson_muntz              nelson_muntz   \n",
       "22  img118.jpg            comic_book_guy            comic_book_guy   \n",
       "23  img119.jpg              mayor_quimby              mayor_quimby   \n",
       "24   img12.jpg             homer_simpson             homer_simpson   \n",
       "25  img120.jpg    apu_nahasapeemapetilon    apu_nahasapeemapetilon   \n",
       "26  img121.jpg          krusty_the_clown          krusty_the_clown   \n",
       "27  img122.jpg          krusty_the_clown          krusty_the_clown   \n",
       "28  img123.jpg              ned_flanders              ned_flanders   \n",
       "29  img124.jpg            edna_krabappel            edna_krabappel   \n",
       "30  img125.jpg    apu_nahasapeemapetilon    apu_nahasapeemapetilon   \n",
       "31  img126.jpg              chief_wiggum              chief_wiggum   \n",
       "32  img127.jpg    apu_nahasapeemapetilon    apu_nahasapeemapetilon   \n",
       "33  img128.jpg              ned_flanders              ned_flanders   \n",
       "34  img129.jpg             homer_simpson             marge_simpson   \n",
       "35   img13.jpg    abraham_grampa_simpson    abraham_grampa_simpson   \n",
       "36  img130.jpg             homer_simpson             homer_simpson   \n",
       "37  img131.jpg              sideshow_bob              sideshow_bob   \n",
       "38  img132.jpg         principal_skinner              lisa_simpson   \n",
       "39  img133.jpg  charles_montgomery_burns  charles_montgomery_burns   \n",
       "40  img134.jpg              chief_wiggum              chief_wiggum   \n",
       "41  img135.jpg             kent_brockman             kent_brockman   \n",
       "42  img136.jpg    abraham_grampa_simpson    abraham_grampa_simpson   \n",
       "43  img137.jpg       milhouse_van_houten       milhouse_van_houten   \n",
       "44  img138.jpg             lenny_leonard             lenny_leonard   \n",
       "45  img139.jpg    abraham_grampa_simpson    abraham_grampa_simpson   \n",
       "46   img14.jpg              nelson_muntz              nelson_muntz   \n",
       "47  img140.jpg            comic_book_guy            comic_book_guy   \n",
       "48  img141.jpg              chief_wiggum              chief_wiggum   \n",
       "49  img142.jpg              nelson_muntz              nelson_muntz   \n",
       "\n",
       "                      fold_3                    fold_4  \\\n",
       "0               nelson_muntz              nelson_muntz   \n",
       "1               bart_simpson              bart_simpson   \n",
       "2               ned_flanders              ned_flanders   \n",
       "3               chief_wiggum              chief_wiggum   \n",
       "4     apu_nahasapeemapetilon    apu_nahasapeemapetilon   \n",
       "5              kent_brockman             kent_brockman   \n",
       "6             edna_krabappel            edna_krabappel   \n",
       "7               chief_wiggum              chief_wiggum   \n",
       "8               lisa_simpson              lisa_simpson   \n",
       "9              kent_brockman             kent_brockman   \n",
       "10             lenny_leonard             lenny_leonard   \n",
       "11             marge_simpson             marge_simpson   \n",
       "12             kent_brockman             kent_brockman   \n",
       "13              ned_flanders              ned_flanders   \n",
       "14               moe_szyslak               moe_szyslak   \n",
       "15            comic_book_guy             homer_simpson   \n",
       "16    abraham_grampa_simpson    abraham_grampa_simpson   \n",
       "17            edna_krabappel            edna_krabappel   \n",
       "18             agnes_skinner             kent_brockman   \n",
       "19              bart_simpson              lisa_simpson   \n",
       "20             marge_simpson             marge_simpson   \n",
       "21              nelson_muntz              nelson_muntz   \n",
       "22            comic_book_guy            comic_book_guy   \n",
       "23              mayor_quimby              mayor_quimby   \n",
       "24             homer_simpson             homer_simpson   \n",
       "25    apu_nahasapeemapetilon    apu_nahasapeemapetilon   \n",
       "26          krusty_the_clown          krusty_the_clown   \n",
       "27          krusty_the_clown          krusty_the_clown   \n",
       "28              ned_flanders              ned_flanders   \n",
       "29            edna_krabappel            edna_krabappel   \n",
       "30    apu_nahasapeemapetilon    apu_nahasapeemapetilon   \n",
       "31              chief_wiggum              chief_wiggum   \n",
       "32    apu_nahasapeemapetilon    apu_nahasapeemapetilon   \n",
       "33              ned_flanders              ned_flanders   \n",
       "34             marge_simpson             marge_simpson   \n",
       "35    abraham_grampa_simpson    abraham_grampa_simpson   \n",
       "36             homer_simpson             homer_simpson   \n",
       "37              sideshow_bob              sideshow_bob   \n",
       "38              lisa_simpson              lisa_simpson   \n",
       "39  charles_montgomery_burns  charles_montgomery_burns   \n",
       "40              chief_wiggum              chief_wiggum   \n",
       "41             kent_brockman             kent_brockman   \n",
       "42    abraham_grampa_simpson    abraham_grampa_simpson   \n",
       "43               moe_szyslak       milhouse_van_houten   \n",
       "44             lenny_leonard             lenny_leonard   \n",
       "45    abraham_grampa_simpson    abraham_grampa_simpson   \n",
       "46              nelson_muntz              nelson_muntz   \n",
       "47            comic_book_guy            comic_book_guy   \n",
       "48              chief_wiggum              chief_wiggum   \n",
       "49              nelson_muntz              nelson_muntz   \n",
       "\n",
       "                      fold_5                  Expected  \n",
       "0               nelson_muntz              nelson_muntz  \n",
       "1               bart_simpson              bart_simpson  \n",
       "2               ned_flanders              ned_flanders  \n",
       "3               chief_wiggum              chief_wiggum  \n",
       "4     apu_nahasapeemapetilon    apu_nahasapeemapetilon  \n",
       "5              kent_brockman             kent_brockman  \n",
       "6             edna_krabappel            edna_krabappel  \n",
       "7               chief_wiggum              chief_wiggum  \n",
       "8               lisa_simpson              lisa_simpson  \n",
       "9              kent_brockman             kent_brockman  \n",
       "10             lenny_leonard             lenny_leonard  \n",
       "11             marge_simpson             marge_simpson  \n",
       "12                 otto_mann             kent_brockman  \n",
       "13              ned_flanders              ned_flanders  \n",
       "14               moe_szyslak               moe_szyslak  \n",
       "15            comic_book_guy            comic_book_guy  \n",
       "16    abraham_grampa_simpson    abraham_grampa_simpson  \n",
       "17              ned_flanders            edna_krabappel  \n",
       "18             kent_brockman             kent_brockman  \n",
       "19              lisa_simpson              lisa_simpson  \n",
       "20             marge_simpson             marge_simpson  \n",
       "21              nelson_muntz              nelson_muntz  \n",
       "22            comic_book_guy            comic_book_guy  \n",
       "23              mayor_quimby              mayor_quimby  \n",
       "24             homer_simpson             homer_simpson  \n",
       "25    apu_nahasapeemapetilon    apu_nahasapeemapetilon  \n",
       "26          krusty_the_clown          krusty_the_clown  \n",
       "27          krusty_the_clown          krusty_the_clown  \n",
       "28              ned_flanders              ned_flanders  \n",
       "29            edna_krabappel            edna_krabappel  \n",
       "30    apu_nahasapeemapetilon    apu_nahasapeemapetilon  \n",
       "31              chief_wiggum              chief_wiggum  \n",
       "32    apu_nahasapeemapetilon    apu_nahasapeemapetilon  \n",
       "33              ned_flanders              ned_flanders  \n",
       "34             marge_simpson             marge_simpson  \n",
       "35    abraham_grampa_simpson    abraham_grampa_simpson  \n",
       "36             homer_simpson             homer_simpson  \n",
       "37              sideshow_bob              sideshow_bob  \n",
       "38              lisa_simpson              lisa_simpson  \n",
       "39  charles_montgomery_burns  charles_montgomery_burns  \n",
       "40              chief_wiggum              chief_wiggum  \n",
       "41             kent_brockman             kent_brockman  \n",
       "42    abraham_grampa_simpson    abraham_grampa_simpson  \n",
       "43       milhouse_van_houten       milhouse_van_houten  \n",
       "44             lenny_leonard             lenny_leonard  \n",
       "45    abraham_grampa_simpson    abraham_grampa_simpson  \n",
       "46              nelson_muntz              nelson_muntz  \n",
       "47            comic_book_guy            comic_book_guy  \n",
       "48              chief_wiggum              chief_wiggum  \n",
       "49              nelson_muntz              nelson_muntz  "
      ]
     },
     "execution_count": 17,
     "metadata": {},
     "output_type": "execute_result"
    }
   ],
   "source": [
    "test_filenames = [path.name for path in test_dataset.files]\n",
    "submit['Id'] = test_filenames\n",
    "submit.head(50)"
   ]
  },
  {
   "cell_type": "code",
   "execution_count": 18,
   "metadata": {},
   "outputs": [
    {
     "data": {
      "text/html": [
       "<div>\n",
       "<style scoped>\n",
       "    .dataframe tbody tr th:only-of-type {\n",
       "        vertical-align: middle;\n",
       "    }\n",
       "\n",
       "    .dataframe tbody tr th {\n",
       "        vertical-align: top;\n",
       "    }\n",
       "\n",
       "    .dataframe thead th {\n",
       "        text-align: right;\n",
       "    }\n",
       "</style>\n",
       "<table border=\"1\" class=\"dataframe\">\n",
       "  <thead>\n",
       "    <tr style=\"text-align: right;\">\n",
       "      <th></th>\n",
       "      <th>Id</th>\n",
       "      <th>fold_1</th>\n",
       "      <th>fold_2</th>\n",
       "      <th>fold_3</th>\n",
       "      <th>fold_4</th>\n",
       "      <th>fold_5</th>\n",
       "      <th>Expected</th>\n",
       "    </tr>\n",
       "  </thead>\n",
       "  <tbody>\n",
       "    <tr>\n",
       "      <th>0</th>\n",
       "      <td>img0.jpg</td>\n",
       "      <td>nelson_muntz</td>\n",
       "      <td>nelson_muntz</td>\n",
       "      <td>nelson_muntz</td>\n",
       "      <td>nelson_muntz</td>\n",
       "      <td>nelson_muntz</td>\n",
       "      <td>nelson_muntz</td>\n",
       "    </tr>\n",
       "    <tr>\n",
       "      <th>1</th>\n",
       "      <td>img1.jpg</td>\n",
       "      <td>bart_simpson</td>\n",
       "      <td>bart_simpson</td>\n",
       "      <td>bart_simpson</td>\n",
       "      <td>bart_simpson</td>\n",
       "      <td>bart_simpson</td>\n",
       "      <td>bart_simpson</td>\n",
       "    </tr>\n",
       "    <tr>\n",
       "      <th>2</th>\n",
       "      <td>img10.jpg</td>\n",
       "      <td>ned_flanders</td>\n",
       "      <td>ned_flanders</td>\n",
       "      <td>ned_flanders</td>\n",
       "      <td>ned_flanders</td>\n",
       "      <td>ned_flanders</td>\n",
       "      <td>ned_flanders</td>\n",
       "    </tr>\n",
       "    <tr>\n",
       "      <th>3</th>\n",
       "      <td>img100.jpg</td>\n",
       "      <td>chief_wiggum</td>\n",
       "      <td>chief_wiggum</td>\n",
       "      <td>chief_wiggum</td>\n",
       "      <td>chief_wiggum</td>\n",
       "      <td>chief_wiggum</td>\n",
       "      <td>chief_wiggum</td>\n",
       "    </tr>\n",
       "    <tr>\n",
       "      <th>4</th>\n",
       "      <td>img101.jpg</td>\n",
       "      <td>apu_nahasapeemapetilon</td>\n",
       "      <td>apu_nahasapeemapetilon</td>\n",
       "      <td>apu_nahasapeemapetilon</td>\n",
       "      <td>apu_nahasapeemapetilon</td>\n",
       "      <td>apu_nahasapeemapetilon</td>\n",
       "      <td>apu_nahasapeemapetilon</td>\n",
       "    </tr>\n",
       "  </tbody>\n",
       "</table>\n",
       "</div>"
      ],
      "text/plain": [
       "           Id                  fold_1                  fold_2  \\\n",
       "0    img0.jpg            nelson_muntz            nelson_muntz   \n",
       "1    img1.jpg            bart_simpson            bart_simpson   \n",
       "2   img10.jpg            ned_flanders            ned_flanders   \n",
       "3  img100.jpg            chief_wiggum            chief_wiggum   \n",
       "4  img101.jpg  apu_nahasapeemapetilon  apu_nahasapeemapetilon   \n",
       "\n",
       "                   fold_3                  fold_4                  fold_5  \\\n",
       "0            nelson_muntz            nelson_muntz            nelson_muntz   \n",
       "1            bart_simpson            bart_simpson            bart_simpson   \n",
       "2            ned_flanders            ned_flanders            ned_flanders   \n",
       "3            chief_wiggum            chief_wiggum            chief_wiggum   \n",
       "4  apu_nahasapeemapetilon  apu_nahasapeemapetilon  apu_nahasapeemapetilon   \n",
       "\n",
       "                 Expected  \n",
       "0            nelson_muntz  \n",
       "1            bart_simpson  \n",
       "2            ned_flanders  \n",
       "3            chief_wiggum  \n",
       "4  apu_nahasapeemapetilon  "
      ]
     },
     "execution_count": 18,
     "metadata": {},
     "output_type": "execute_result"
    }
   ],
   "source": [
    "submit['Expected'] = submit.mode(axis=1)[0]\n",
    "submit.head()"
   ]
  },
  {
   "cell_type": "code",
   "execution_count": 19,
   "metadata": {},
   "outputs": [],
   "source": [
    "submit[['Id', 'Expected']].to_csv('./out/simple_kf_lrplateau.csv', index=False)"
   ]
  },
  {
   "cell_type": "code",
   "execution_count": null,
   "metadata": {},
   "outputs": [],
   "source": []
  },
  {
   "cell_type": "code",
   "execution_count": null,
   "metadata": {},
   "outputs": [],
   "source": []
  },
  {
   "cell_type": "code",
   "execution_count": null,
   "metadata": {},
   "outputs": [],
   "source": []
  },
  {
   "cell_type": "code",
   "execution_count": null,
   "metadata": {},
   "outputs": [],
   "source": []
  },
  {
   "cell_type": "code",
   "execution_count": null,
   "metadata": {},
   "outputs": [],
   "source": []
  },
  {
   "cell_type": "code",
   "execution_count": null,
   "metadata": {},
   "outputs": [],
   "source": []
  },
  {
   "cell_type": "code",
   "execution_count": null,
   "metadata": {},
   "outputs": [],
   "source": []
  },
  {
   "cell_type": "code",
   "execution_count": null,
   "metadata": {},
   "outputs": [],
   "source": []
  },
  {
   "cell_type": "code",
   "execution_count": null,
   "metadata": {},
   "outputs": [],
   "source": []
  },
  {
   "cell_type": "code",
   "execution_count": null,
   "metadata": {},
   "outputs": [],
   "source": []
  }
 ],
 "metadata": {
  "kernelspec": {
   "display_name": "Python 3",
   "language": "python",
   "name": "python3"
  },
  "language_info": {
   "codemirror_mode": {
    "name": "ipython",
    "version": 3
   },
   "file_extension": ".py",
   "mimetype": "text/x-python",
   "name": "python",
   "nbconvert_exporter": "python",
   "pygments_lexer": "ipython3",
   "version": "3.7.3"
  }
 },
 "nbformat": 4,
 "nbformat_minor": 4
}
